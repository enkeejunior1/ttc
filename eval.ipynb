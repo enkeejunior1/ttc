{
 "cells": [
  {
   "cell_type": "code",
   "execution_count": 2,
   "metadata": {},
   "outputs": [
    {
     "name": "stderr",
     "output_type": "stream",
     "text": [
      "/data/yonghyun/anaconda3/envs/ttc/lib/python3.10/site-packages/tqdm/auto.py:21: TqdmWarning: IProgress not found. Please update jupyter and ipywidgets. See https://ipywidgets.readthedocs.io/en/stable/user_install.html\n",
      "  from .autonotebook import tqdm as notebook_tqdm\n"
     ]
    }
   ],
   "source": [
    "from collections import defaultdict\n",
    "import fire\n",
    "import mup\n",
    "import lib.datasets\n",
    "from lib.datasets import get_dataloaders\n",
    "import lib.models\n",
    "import lib.utils\n",
    "import os\n",
    "import torch\n",
    "import logging, sys\n",
    "import time\n",
    "import random\n",
    "import numpy as np"
   ]
  },
  {
   "cell_type": "code",
   "execution_count": null,
   "metadata": {},
   "outputs": [],
   "source": [
    "class Args:\n",
    "    # args (experiments)\n",
    "    runs = 1            # 1\n",
    "    fix_src = True      # fix context \n",
    "    cot = False         # False # thought-level diffusion, q+previous cot -> next thought\n",
    "    cot_steps = None    # 12\n",
    "    digit = True        # Use Digits pre_tokenizer\n",
    "    limit = True        # Debug (< 5 instances)\n",
    "\n",
    "    # args (datasets)\n",
    "    dataset = \"4by4\"    # 4by4, 5by5, gsm8k, boolean\n",
    "    seq_len = 256       # boolean: 384, else: 256\n",
    "    vocab_size = None   # follow pretrained LM\n",
    "    weights_path = None # {gpt, sedd, mdlm}-{small, medium}\n",
    "    \n",
    "    # args (model)\n",
    "    dim = None          # 2048\n",
    "    n_blocks = None     # 24\n",
    "    n_heads = None      # 32\n",
    "    embed_dim = None    # 16\n",
    "    \n",
    "    # args (train)\n",
    "    batch_size = None   # 168)\n",
    "\n",
    "    # args (diffusion)\n",
    "    sampling_timesteps = None # 64\n",
    "\n",
    "    # args (sampling)\n",
    "    logit_sample = None # False\n",
    "    logit_temp = None # 0.5\n",
    "    \n",
    "    # args (noise schedule - only for palid?)\n",
    "    # gamma_0 = None      # -3.\n",
    "    # gamma_1 = None      # 6.\n",
    "    # initial_noise_scale = None # 1.0\n",
    "    # dpm_solver = None   # False\n",
    "    # score_temp = None   # 0.5\n",
    "\n",
    "    # args (???)\n",
    "    apply_sc = False    # True: acc / False: mean \n",
    "\n",
    "args = Args()"
   ]
  },
  {
   "cell_type": "markdown",
   "metadata": {},
   "source": []
  },
  {
   "cell_type": "code",
   "execution_count": null,
   "metadata": {},
   "outputs": [],
   "source": []
  },
  {
   "cell_type": "code",
   "execution_count": null,
   "metadata": {},
   "outputs": [],
   "source": []
  },
  {
   "cell_type": "code",
   "execution_count": null,
   "metadata": {},
   "outputs": [],
   "source": [
    "from ddms.sedd import SEDD\n",
    "\n",
    "# load model\n",
    "model = SEDD.from_pretrained(args.weights_path)"
   ]
  }
 ],
 "metadata": {
  "kernelspec": {
   "display_name": "ttc",
   "language": "python",
   "name": "python3"
  },
  "language_info": {
   "codemirror_mode": {
    "name": "ipython",
    "version": 3
   },
   "file_extension": ".py",
   "mimetype": "text/x-python",
   "name": "python",
   "nbconvert_exporter": "python",
   "pygments_lexer": "ipython3",
   "version": "3.10.15"
  }
 },
 "nbformat": 4,
 "nbformat_minor": 2
}
